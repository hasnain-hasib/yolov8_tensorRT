{
 "cells": [
  {
   "cell_type": "code",
   "execution_count": null,
   "metadata": {},
   "outputs": [],
   "source": [
    "!pip install torch torchvision torchaudio\n",
    "!pip install opencv-python\n",
    "!pip install ultralytics\n",
    "!pip install tensorrt  \n"
   ]
  },
  {
   "cell_type": "code",
   "execution_count": null,
   "metadata": {},
   "outputs": [],
   "source": [
    "import torch\n",
    "import cv2\n",
    "import random\n",
    "import time\n",
    "import pathlib\n",
    "from ultralytics import YOLO\n",
    "import modules.utils as utils\n",
    "from modules.autobackend import AutoBackend\n"
   ]
  },
  {
   "cell_type": "code",
   "execution_count": null,
   "metadata": {},
   "outputs": [],
   "source": [
    "# TensorRT inference function\n",
    "def tensorrt_detection(model, source, image):\n",
    "    im = utils.preprocess(image)  \n",
    "    preds = model(im) \n",
    "    results = utils.postprocess(preds, im, image, model.names, source) \n",
    "    d = results[0].boxes\n",
    "    cls, conf, box = d.cls.squeeze(), d.conf.squeeze(), d.xyxy.squeeze()\n",
    "    return cls, conf, box\n"
   ]
  },
  {
   "cell_type": "code",
   "execution_count": null,
   "metadata": {},
   "outputs": [],
   "source": [
    "# YOLOv8 detection function\n",
    "def yolov8_detection(model, image):\n",
    "    results = model.predict(image, imgsz=640, conf=0.5, verbose=False)\n",
    "    result = results[0].cpu()\n",
    "    box = result.boxes.xyxy.numpy()\n",
    "    conf = result.boxes.conf.numpy()\n",
    "    cls = result.boxes.cls.numpy().astype(int)\n",
    "    return cls, conf, box\n"
   ]
  },
  {
   "cell_type": "code",
   "execution_count": null,
   "metadata": {},
   "outputs": [],
   "source": [
    "# Main function to detect objects in videos\n",
    "def detection(model_path, source, name):\n",
    "    file_extension = pathlib.Path(model_path).suffix\n",
    "    if file_extension == \".engine\":\n",
    "        model = AutoBackend(model_path, device=torch.device('cuda:0'), fp16=True)\n",
    "        model.warmup()  # TensorRT model warmup\n",
    "    else:\n",
    "        model = YOLO(model_path)  # Load YOLOv8 model\n",
    "    label_map = model.names\n",
    "    COLORS = [[random.randint(0, 255) for _ in range(3)] for _ in label_map]\n",
    "    video_cap = cv2.VideoCapture(source)\n",
    "    total_frames = int(video_cap.get(cv2.CAP_PROP_FRAME_COUNT))\n",
    "    frame_width, frame_height = int(video_cap.get(3)), int(video_cap.get(4))\n",
    "    video_frames, total_fps, frame_count = [], 0, 0\n",
    "\n",
    "    while video_cap.isOpened():\n",
    "        ret, frame = video_cap.read()\n",
    "        if not ret: break\n",
    "        start = time.time()\n",
    "        if file_extension == \".engine\":\n",
    "            cls, conf, box = tensorrt_detection(model, source, frame)\n",
    "        else:\n",
    "            cls, conf, box = yolov8_detection(model, frame)\n",
    "        detection_output = list(zip(cls, conf, box))\n",
    "        image_output = utils.draw_box(frame, detection_output, label_map, COLORS)\n",
    "        frame_count += 1\n",
    "        fps = 1 / (time.time() - start)\n",
    "        total_fps += fps\n",
    "        avg_fps = total_fps / frame_count\n",
    "        image_output = utils.draw_fps(avg_fps, image_output)\n",
    "        video_frames.append(image_output)\n",
    "        print(f\"({frame_count}/{total_frames}) Frames Processed\")\n",
    "    \n",
    "    print(f\"Average FPS: {avg_fps}\")\n",
    "    \n",
    "    file_name, save_path = utils.get_name(source), utils.get_save_path(file_name, name)\n",
    "    out = cv2.VideoWriter(save_path, cv2.VideoWriter_fourcc(*'XVID'), int(avg_fps), (frame_width, frame_height))\n",
    "    for frame in video_frames:\n",
    "        out.write(frame)\n",
    "    out.release()\n",
    "    print(f\"Video saved to {save_path}\")\n"
   ]
  },
  {
   "cell_type": "code",
   "execution_count": null,
   "metadata": {},
   "outputs": [],
   "source": [
    "\n",
    "detection(\"yolov8x.engine\", \"inference/road.mp4\", \"detection\")\n",
    "\n"
   ]
  }
 ],
 "metadata": {
  "kernelspec": {
   "display_name": "deeplearning",
   "language": "python",
   "name": "python3"
  },
  "language_info": {
   "codemirror_mode": {
    "name": "ipython",
    "version": 3
   },
   "file_extension": ".py",
   "mimetype": "text/x-python",
   "name": "python",
   "nbconvert_exporter": "python",
   "pygments_lexer": "ipython3",
   "version": "3.10.14"
  }
 },
 "nbformat": 4,
 "nbformat_minor": 2
}
